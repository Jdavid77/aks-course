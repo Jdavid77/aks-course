{
 "cells": [
  {
   "cell_type": "markdown",
   "metadata": {
    "deletable": true,
    "editable": true
   },
   "source": [
    "How to create a Deployment\n",
    "==========================\n",
    "\n",
    "In this notebook, we show you how to create a Deployment with 3 ReplicaSets. These ReplicaSets are owned by the Deployment and are managed by the Deployment controller. We would also learn how to carry out RollingUpdate and RollBack to new and older versions of the deployment."
   ]
  },
  {
   "cell_type": "code",
   "execution_count": null,
   "metadata": {},
   "outputs": [],
   "source": [
    "%pip install kubernetes"
   ]
  },
  {
   "cell_type": "code",
   "execution_count": null,
   "metadata": {
    "collapsed": true,
    "deletable": true,
    "editable": true
   },
   "outputs": [],
   "source": [
    "from kubernetes import client, config"
   ]
  },
  {
   "cell_type": "markdown",
   "metadata": {
    "deletable": true,
    "editable": true
   },
   "source": [
    "### Load config from default location"
   ]
  },
  {
   "cell_type": "code",
   "execution_count": 55,
   "metadata": {
    "collapsed": true,
    "deletable": true,
    "editable": true
   },
   "outputs": [],
   "source": [
    "config.load_kube_config()\n",
    "apps_api = client.AppsV1Api()"
   ]
  },
  {
   "cell_type": "markdown",
   "metadata": {
    "deletable": true,
    "editable": true
   },
   "source": [
    "### Create Deployment object"
   ]
  },
  {
   "cell_type": "code",
   "execution_count": 85,
   "metadata": {
    "collapsed": true,
    "deletable": true,
    "editable": true
   },
   "outputs": [],
   "source": [
    "deployment = client.V1Deployment()"
   ]
  },
  {
   "cell_type": "markdown",
   "metadata": {
    "deletable": true,
    "editable": true
   },
   "source": [
    "### Fill required Deployment fields (apiVersion, kind, and metadata)"
   ]
  },
  {
   "cell_type": "code",
   "execution_count": null,
   "metadata": {
    "collapsed": true,
    "deletable": true,
    "editable": true
   },
   "outputs": [],
   "source": [
    "deployment.metadata = client.V1ObjectMeta(name=\"nginx-deployment\")"
   ]
  },
  {
   "cell_type": "markdown",
   "metadata": {
    "deletable": true,
    "editable": true
   },
   "source": [
    "### A Deployment also needs a .spec section"
   ]
  },
  {
   "cell_type": "code",
   "execution_count": null,
   "metadata": {
    "collapsed": true,
    "deletable": true,
    "editable": true
   },
   "outputs": [],
   "source": []
  },
  {
   "cell_type": "markdown",
   "metadata": {
    "deletable": true,
    "editable": true
   },
   "source": [
    "### Add Pod template in .spec.template section"
   ]
  },
  {
   "cell_type": "code",
   "execution_count": null,
   "metadata": {
    "collapsed": true,
    "deletable": true,
    "editable": true
   },
   "outputs": [],
   "source": []
  },
  {
   "cell_type": "markdown",
   "metadata": {
    "deletable": true,
    "editable": true
   },
   "source": [
    "### Pod template container description"
   ]
  },
  {
   "cell_type": "code",
   "execution_count": 87,
   "metadata": {
    "collapsed": true,
    "deletable": true,
    "editable": true
   },
   "outputs": [],
   "source": [
    "spec_template_spec_container = client.V1Container(name=\"nginx\")\n",
    "spec_template_spec_container.name=\"nginx\"\n",
    "spec_template_spec_container.image=\"nginx:1.27.4\"\n",
    "spec_template_spec_container.ports = [client.V1ContainerPort(container_port=80)]"
   ]
  },
  {
   "cell_type": "code",
   "execution_count": null,
   "metadata": {
    "collapsed": false,
    "deletable": true,
    "editable": true
   },
   "outputs": [],
   "source": [
    "spec_template = client.V1PodTemplateSpec()\n",
    "spec_template.metadata = client.V1ObjectMeta(labels={\"app\": \"nginx\"})\n",
    "spec_template.spec = client.V1PodSpec(containers=[spec_template_spec_container])"
   ]
  },
  {
   "cell_type": "code",
   "execution_count": null,
   "metadata": {},
   "outputs": [
    {
     "name": "stdout",
     "output_type": "stream",
     "text": [
      "{'api_version': None,\n",
      " 'kind': None,\n",
      " 'metadata': {'annotations': None,\n",
      "              'creation_timestamp': None,\n",
      "              'deletion_grace_period_seconds': None,\n",
      "              'deletion_timestamp': None,\n",
      "              'finalizers': None,\n",
      "              'generate_name': None,\n",
      "              'generation': None,\n",
      "              'labels': None,\n",
      "              'managed_fields': None,\n",
      "              'name': 'nginx-deployment',\n",
      "              'namespace': None,\n",
      "              'owner_references': None,\n",
      "              'resource_version': None,\n",
      "              'self_link': None,\n",
      "              'uid': None},\n",
      " 'spec': {'min_ready_seconds': None,\n",
      "          'paused': None,\n",
      "          'progress_deadline_seconds': None,\n",
      "          'replicas': 3,\n",
      "          'revision_history_limit': None,\n",
      "          'selector': {'match_expressions': None,\n",
      "                       'match_labels': {'app': 'nginx'}},\n",
      "          'strategy': None,\n",
      "          'template': {'metadata': {'annotations': None,\n",
      "                                    'creation_timestamp': None,\n",
      "                                    'deletion_grace_period_seconds': None,\n",
      "                                    'deletion_timestamp': None,\n",
      "                                    'finalizers': None,\n",
      "                                    'generate_name': None,\n",
      "                                    'generation': None,\n",
      "                                    'labels': {'app': 'nginx'},\n",
      "                                    'managed_fields': None,\n",
      "                                    'name': None,\n",
      "                                    'namespace': None,\n",
      "                                    'owner_references': None,\n",
      "                                    'resource_version': None,\n",
      "                                    'self_link': None,\n",
      "                                    'uid': None},\n",
      "                       'spec': {'active_deadline_seconds': None,\n",
      "                                'affinity': None,\n",
      "                                'automount_service_account_token': None,\n",
      "                                'containers': [{'args': None,\n",
      "                                                'command': None,\n",
      "                                                'env': None,\n",
      "                                                'env_from': None,\n",
      "                                                'image': 'nginx:1.27.4',\n",
      "                                                'image_pull_policy': None,\n",
      "                                                'lifecycle': None,\n",
      "                                                'liveness_probe': None,\n",
      "                                                'name': 'nginx',\n",
      "                                                'ports': [{'container_port': 80,\n",
      "                                                           'host_ip': None,\n",
      "                                                           'host_port': None,\n",
      "                                                           'name': None,\n",
      "                                                           'protocol': None}],\n",
      "                                                'readiness_probe': None,\n",
      "                                                'resize_policy': None,\n",
      "                                                'resources': None,\n",
      "                                                'restart_policy': None,\n",
      "                                                'security_context': None,\n",
      "                                                'startup_probe': None,\n",
      "                                                'stdin': None,\n",
      "                                                'stdin_once': None,\n",
      "                                                'termination_message_path': None,\n",
      "                                                'termination_message_policy': None,\n",
      "                                                'tty': None,\n",
      "                                                'volume_devices': None,\n",
      "                                                'volume_mounts': None,\n",
      "                                                'working_dir': None}],\n",
      "                                'dns_config': None,\n",
      "                                'dns_policy': None,\n",
      "                                'enable_service_links': None,\n",
      "                                'ephemeral_containers': None,\n",
      "                                'host_aliases': None,\n",
      "                                'host_ipc': None,\n",
      "                                'host_network': None,\n",
      "                                'host_pid': None,\n",
      "                                'host_users': None,\n",
      "                                'hostname': None,\n",
      "                                'image_pull_secrets': None,\n",
      "                                'init_containers': None,\n",
      "                                'node_name': None,\n",
      "                                'node_selector': None,\n",
      "                                'os': None,\n",
      "                                'overhead': None,\n",
      "                                'preemption_policy': None,\n",
      "                                'priority': None,\n",
      "                                'priority_class_name': None,\n",
      "                                'readiness_gates': None,\n",
      "                                'resource_claims': None,\n",
      "                                'resources': None,\n",
      "                                'restart_policy': None,\n",
      "                                'runtime_class_name': None,\n",
      "                                'scheduler_name': None,\n",
      "                                'scheduling_gates': None,\n",
      "                                'security_context': None,\n",
      "                                'service_account': None,\n",
      "                                'service_account_name': None,\n",
      "                                'set_hostname_as_fqdn': None,\n",
      "                                'share_process_namespace': None,\n",
      "                                'subdomain': None,\n",
      "                                'termination_grace_period_seconds': None,\n",
      "                                'tolerations': None,\n",
      "                                'topology_spread_constraints': None,\n",
      "                                'volumes': None}}},\n",
      " 'status': None}\n"
     ]
    }
   ],
   "source": [
    "spec = client.V1DeploymentSpec(template=spec_template, selector=client.V1LabelSelector(match_labels={\"app\": \"nginx\"}))\n",
    "\n",
    "spec.replicas = 3\n",
    "\n",
    "deployment.spec = spec\n",
    "\n",
    "print(deployment)"
   ]
  },
  {
   "cell_type": "markdown",
   "metadata": {
    "deletable": true,
    "editable": true
   },
   "source": [
    "### Create Deployment"
   ]
  },
  {
   "cell_type": "code",
   "execution_count": null,
   "metadata": {
    "collapsed": false,
    "deletable": true,
    "editable": true
   },
   "outputs": [
    {
     "data": {
      "text/plain": [
       "{'api_version': 'apps/v1',\n",
       " 'kind': 'Deployment',\n",
       " 'metadata': {'annotations': None,\n",
       "              'creation_timestamp': datetime.datetime(2025, 4, 3, 19, 58, 39, tzinfo=tzutc()),\n",
       "              'deletion_grace_period_seconds': None,\n",
       "              'deletion_timestamp': None,\n",
       "              'finalizers': None,\n",
       "              'generate_name': None,\n",
       "              'generation': 1,\n",
       "              'labels': None,\n",
       "              'managed_fields': [{'api_version': 'apps/v1',\n",
       "                                  'fields_type': 'FieldsV1',\n",
       "                                  'fields_v1': {'f:spec': {'f:progressDeadlineSeconds': {},\n",
       "                                                           'f:replicas': {},\n",
       "                                                           'f:revisionHistoryLimit': {},\n",
       "                                                           'f:selector': {},\n",
       "                                                           'f:strategy': {'f:rollingUpdate': {'.': {},\n",
       "                                                                                              'f:maxSurge': {},\n",
       "                                                                                              'f:maxUnavailable': {}},\n",
       "                                                                          'f:type': {}},\n",
       "                                                           'f:template': {'f:metadata': {'f:labels': {'.': {},\n",
       "                                                                                                      'f:app': {}}},\n",
       "                                                                          'f:spec': {'f:containers': {'k:{\"name\":\"nginx\"}': {'.': {},\n",
       "                                                                                                                             'f:image': {},\n",
       "                                                                                                                             'f:imagePullPolicy': {},\n",
       "                                                                                                                             'f:name': {},\n",
       "                                                                                                                             'f:ports': {'.': {},\n",
       "                                                                                                                                         'k:{\"containerPort\":80,\"protocol\":\"TCP\"}': {'.': {},\n",
       "                                                                                                                                                                                     'f:containerPort': {},\n",
       "                                                                                                                                                                                     'f:protocol': {}}},\n",
       "                                                                                                                             'f:resources': {},\n",
       "                                                                                                                             'f:terminationMessagePath': {},\n",
       "                                                                                                                             'f:terminationMessagePolicy': {}}},\n",
       "                                                                                     'f:dnsPolicy': {},\n",
       "                                                                                     'f:restartPolicy': {},\n",
       "                                                                                     'f:schedulerName': {},\n",
       "                                                                                     'f:securityContext': {},\n",
       "                                                                                     'f:terminationGracePeriodSeconds': {}}}}},\n",
       "                                  'manager': 'OpenAPI-Generator',\n",
       "                                  'operation': 'Update',\n",
       "                                  'subresource': None,\n",
       "                                  'time': datetime.datetime(2025, 4, 3, 19, 58, 39, tzinfo=tzutc())}],\n",
       "              'name': 'nginx-deployment',\n",
       "              'namespace': 'default',\n",
       "              'owner_references': None,\n",
       "              'resource_version': '18118',\n",
       "              'self_link': None,\n",
       "              'uid': '038b0367-6f93-4f91-878f-f1b5fc43b256'},\n",
       " 'spec': {'min_ready_seconds': None,\n",
       "          'paused': None,\n",
       "          'progress_deadline_seconds': 600,\n",
       "          'replicas': 3,\n",
       "          'revision_history_limit': 10,\n",
       "          'selector': {'match_expressions': None,\n",
       "                       'match_labels': {'app': 'nginx'}},\n",
       "          'strategy': {'rolling_update': {'max_surge': '25%',\n",
       "                                          'max_unavailable': '25%'},\n",
       "                       'type': 'RollingUpdate'},\n",
       "          'template': {'metadata': {'annotations': None,\n",
       "                                    'creation_timestamp': None,\n",
       "                                    'deletion_grace_period_seconds': None,\n",
       "                                    'deletion_timestamp': None,\n",
       "                                    'finalizers': None,\n",
       "                                    'generate_name': None,\n",
       "                                    'generation': None,\n",
       "                                    'labels': {'app': 'nginx'},\n",
       "                                    'managed_fields': None,\n",
       "                                    'name': None,\n",
       "                                    'namespace': None,\n",
       "                                    'owner_references': None,\n",
       "                                    'resource_version': None,\n",
       "                                    'self_link': None,\n",
       "                                    'uid': None},\n",
       "                       'spec': {'active_deadline_seconds': None,\n",
       "                                'affinity': None,\n",
       "                                'automount_service_account_token': None,\n",
       "                                'containers': [{'args': None,\n",
       "                                                'command': None,\n",
       "                                                'env': None,\n",
       "                                                'env_from': None,\n",
       "                                                'image': 'nginx:1.24.0',\n",
       "                                                'image_pull_policy': 'IfNotPresent',\n",
       "                                                'lifecycle': None,\n",
       "                                                'liveness_probe': None,\n",
       "                                                'name': 'nginx',\n",
       "                                                'ports': [{'container_port': 80,\n",
       "                                                           'host_ip': None,\n",
       "                                                           'host_port': None,\n",
       "                                                           'name': None,\n",
       "                                                           'protocol': 'TCP'}],\n",
       "                                                'readiness_probe': None,\n",
       "                                                'resize_policy': None,\n",
       "                                                'resources': {'claims': None,\n",
       "                                                              'limits': None,\n",
       "                                                              'requests': None},\n",
       "                                                'restart_policy': None,\n",
       "                                                'security_context': None,\n",
       "                                                'startup_probe': None,\n",
       "                                                'stdin': None,\n",
       "                                                'stdin_once': None,\n",
       "                                                'termination_message_path': '/dev/termination-log',\n",
       "                                                'termination_message_policy': 'File',\n",
       "                                                'tty': None,\n",
       "                                                'volume_devices': None,\n",
       "                                                'volume_mounts': None,\n",
       "                                                'working_dir': None}],\n",
       "                                'dns_config': None,\n",
       "                                'dns_policy': 'ClusterFirst',\n",
       "                                'enable_service_links': None,\n",
       "                                'ephemeral_containers': None,\n",
       "                                'host_aliases': None,\n",
       "                                'host_ipc': None,\n",
       "                                'host_network': None,\n",
       "                                'host_pid': None,\n",
       "                                'host_users': None,\n",
       "                                'hostname': None,\n",
       "                                'image_pull_secrets': None,\n",
       "                                'init_containers': None,\n",
       "                                'node_name': None,\n",
       "                                'node_selector': None,\n",
       "                                'os': None,\n",
       "                                'overhead': None,\n",
       "                                'preemption_policy': None,\n",
       "                                'priority': None,\n",
       "                                'priority_class_name': None,\n",
       "                                'readiness_gates': None,\n",
       "                                'resource_claims': None,\n",
       "                                'resources': None,\n",
       "                                'restart_policy': 'Always',\n",
       "                                'runtime_class_name': None,\n",
       "                                'scheduler_name': 'default-scheduler',\n",
       "                                'scheduling_gates': None,\n",
       "                                'security_context': {'app_armor_profile': None,\n",
       "                                                     'fs_group': None,\n",
       "                                                     'fs_group_change_policy': None,\n",
       "                                                     'run_as_group': None,\n",
       "                                                     'run_as_non_root': None,\n",
       "                                                     'run_as_user': None,\n",
       "                                                     'se_linux_change_policy': None,\n",
       "                                                     'se_linux_options': None,\n",
       "                                                     'seccomp_profile': None,\n",
       "                                                     'supplemental_groups': None,\n",
       "                                                     'supplemental_groups_policy': None,\n",
       "                                                     'sysctls': None,\n",
       "                                                     'windows_options': None},\n",
       "                                'service_account': None,\n",
       "                                'service_account_name': None,\n",
       "                                'set_hostname_as_fqdn': None,\n",
       "                                'share_process_namespace': None,\n",
       "                                'subdomain': None,\n",
       "                                'termination_grace_period_seconds': 30,\n",
       "                                'tolerations': None,\n",
       "                                'topology_spread_constraints': None,\n",
       "                                'volumes': None}}},\n",
       " 'status': {'available_replicas': None,\n",
       "            'collision_count': None,\n",
       "            'conditions': None,\n",
       "            'observed_generation': None,\n",
       "            'ready_replicas': None,\n",
       "            'replicas': None,\n",
       "            'unavailable_replicas': None,\n",
       "            'updated_replicas': None}}"
      ]
     },
     "execution_count": 102,
     "metadata": {},
     "output_type": "execute_result"
    }
   ],
   "source": [
    "apps_api.create_namespaced_deployment(namespace=\"default\", body=deployment)"
   ]
  },
  {
   "cell_type": "markdown",
   "metadata": {
    "deletable": true,
    "editable": true
   },
   "source": [
    "### Update container image "
   ]
  },
  {
   "cell_type": "code",
   "execution_count": 103,
   "metadata": {
    "collapsed": true,
    "deletable": true,
    "editable": true
   },
   "outputs": [],
   "source": [
    "deployment.spec.template.spec.containers[0].image = \"nginx:1.24.0\""
   ]
  },
  {
   "cell_type": "markdown",
   "metadata": {
    "deletable": true,
    "editable": true
   },
   "source": [
    "### Apply update (RollingUpdate)"
   ]
  },
  {
   "cell_type": "code",
   "execution_count": 104,
   "metadata": {
    "collapsed": false,
    "deletable": true,
    "editable": true
   },
   "outputs": [
    {
     "data": {
      "text/plain": [
       "{'api_version': 'apps/v1',\n",
       " 'kind': 'Deployment',\n",
       " 'metadata': {'annotations': None,\n",
       "              'creation_timestamp': datetime.datetime(2025, 4, 3, 19, 58, 39, tzinfo=tzutc()),\n",
       "              'deletion_grace_period_seconds': None,\n",
       "              'deletion_timestamp': None,\n",
       "              'finalizers': None,\n",
       "              'generate_name': None,\n",
       "              'generation': 2,\n",
       "              'labels': None,\n",
       "              'managed_fields': [{'api_version': 'apps/v1',\n",
       "                                  'fields_type': 'FieldsV1',\n",
       "                                  'fields_v1': {'f:spec': {'f:progressDeadlineSeconds': {},\n",
       "                                                           'f:replicas': {},\n",
       "                                                           'f:revisionHistoryLimit': {},\n",
       "                                                           'f:selector': {},\n",
       "                                                           'f:strategy': {'f:rollingUpdate': {'.': {},\n",
       "                                                                                              'f:maxSurge': {},\n",
       "                                                                                              'f:maxUnavailable': {}},\n",
       "                                                                          'f:type': {}},\n",
       "                                                           'f:template': {'f:metadata': {'f:labels': {'.': {},\n",
       "                                                                                                      'f:app': {}}},\n",
       "                                                                          'f:spec': {'f:containers': {'k:{\"name\":\"nginx\"}': {'.': {},\n",
       "                                                                                                                             'f:image': {},\n",
       "                                                                                                                             'f:imagePullPolicy': {},\n",
       "                                                                                                                             'f:name': {},\n",
       "                                                                                                                             'f:ports': {'.': {},\n",
       "                                                                                                                                         'k:{\"containerPort\":80,\"protocol\":\"TCP\"}': {'.': {},\n",
       "                                                                                                                                                                                     'f:containerPort': {},\n",
       "                                                                                                                                                                                     'f:protocol': {}}},\n",
       "                                                                                                                             'f:resources': {},\n",
       "                                                                                                                             'f:terminationMessagePath': {},\n",
       "                                                                                                                             'f:terminationMessagePolicy': {}}},\n",
       "                                                                                     'f:dnsPolicy': {},\n",
       "                                                                                     'f:restartPolicy': {},\n",
       "                                                                                     'f:schedulerName': {},\n",
       "                                                                                     'f:securityContext': {},\n",
       "                                                                                     'f:terminationGracePeriodSeconds': {}}}}},\n",
       "                                  'manager': 'OpenAPI-Generator',\n",
       "                                  'operation': 'Update',\n",
       "                                  'subresource': None,\n",
       "                                  'time': datetime.datetime(2025, 4, 3, 19, 58, 39, tzinfo=tzutc())},\n",
       "                                 {'api_version': 'apps/v1',\n",
       "                                  'fields_type': 'FieldsV1',\n",
       "                                  'fields_v1': {'f:status': {'f:availableReplicas': {},\n",
       "                                                             'f:conditions': {'.': {},\n",
       "                                                                              'k:{\"type\":\"Available\"}': {'.': {},\n",
       "                                                                                                         'f:lastTransitionTime': {},\n",
       "                                                                                                         'f:lastUpdateTime': {},\n",
       "                                                                                                         'f:message': {},\n",
       "                                                                                                         'f:reason': {},\n",
       "                                                                                                         'f:status': {},\n",
       "                                                                                                         'f:type': {}},\n",
       "                                                                              'k:{\"type\":\"Progressing\"}': {'.': {},\n",
       "                                                                                                           'f:lastTransitionTime': {},\n",
       "                                                                                                           'f:lastUpdateTime': {},\n",
       "                                                                                                           'f:message': {},\n",
       "                                                                                                           'f:reason': {},\n",
       "                                                                                                           'f:status': {},\n",
       "                                                                                                           'f:type': {}}},\n",
       "                                                             'f:observedGeneration': {},\n",
       "                                                             'f:readyReplicas': {},\n",
       "                                                             'f:replicas': {},\n",
       "                                                             'f:updatedReplicas': {}}},\n",
       "                                  'manager': 'kube-controller-manager',\n",
       "                                  'operation': 'Update',\n",
       "                                  'subresource': 'status',\n",
       "                                  'time': datetime.datetime(2025, 4, 3, 19, 58, 40, tzinfo=tzutc())}],\n",
       "              'name': 'nginx-deployment',\n",
       "              'namespace': 'default',\n",
       "              'owner_references': None,\n",
       "              'resource_version': '18211',\n",
       "              'self_link': None,\n",
       "              'uid': '038b0367-6f93-4f91-878f-f1b5fc43b256'},\n",
       " 'spec': {'min_ready_seconds': None,\n",
       "          'paused': None,\n",
       "          'progress_deadline_seconds': 600,\n",
       "          'replicas': 3,\n",
       "          'revision_history_limit': 10,\n",
       "          'selector': {'match_expressions': None,\n",
       "                       'match_labels': {'app': 'nginx'}},\n",
       "          'strategy': {'rolling_update': {'max_surge': '25%',\n",
       "                                          'max_unavailable': '25%'},\n",
       "                       'type': 'RollingUpdate'},\n",
       "          'template': {'metadata': {'annotations': None,\n",
       "                                    'creation_timestamp': None,\n",
       "                                    'deletion_grace_period_seconds': None,\n",
       "                                    'deletion_timestamp': None,\n",
       "                                    'finalizers': None,\n",
       "                                    'generate_name': None,\n",
       "                                    'generation': None,\n",
       "                                    'labels': {'app': 'nginx'},\n",
       "                                    'managed_fields': None,\n",
       "                                    'name': None,\n",
       "                                    'namespace': None,\n",
       "                                    'owner_references': None,\n",
       "                                    'resource_version': None,\n",
       "                                    'self_link': None,\n",
       "                                    'uid': None},\n",
       "                       'spec': {'active_deadline_seconds': None,\n",
       "                                'affinity': None,\n",
       "                                'automount_service_account_token': None,\n",
       "                                'containers': [{'args': None,\n",
       "                                                'command': None,\n",
       "                                                'env': None,\n",
       "                                                'env_from': None,\n",
       "                                                'image': 'nginx:1.24.0',\n",
       "                                                'image_pull_policy': 'IfNotPresent',\n",
       "                                                'lifecycle': None,\n",
       "                                                'liveness_probe': None,\n",
       "                                                'name': 'nginx',\n",
       "                                                'ports': [{'container_port': 80,\n",
       "                                                           'host_ip': None,\n",
       "                                                           'host_port': None,\n",
       "                                                           'name': None,\n",
       "                                                           'protocol': 'TCP'}],\n",
       "                                                'readiness_probe': None,\n",
       "                                                'resize_policy': None,\n",
       "                                                'resources': {'claims': None,\n",
       "                                                              'limits': None,\n",
       "                                                              'requests': None},\n",
       "                                                'restart_policy': None,\n",
       "                                                'security_context': None,\n",
       "                                                'startup_probe': None,\n",
       "                                                'stdin': None,\n",
       "                                                'stdin_once': None,\n",
       "                                                'termination_message_path': '/dev/termination-log',\n",
       "                                                'termination_message_policy': 'File',\n",
       "                                                'tty': None,\n",
       "                                                'volume_devices': None,\n",
       "                                                'volume_mounts': None,\n",
       "                                                'working_dir': None}],\n",
       "                                'dns_config': None,\n",
       "                                'dns_policy': 'ClusterFirst',\n",
       "                                'enable_service_links': None,\n",
       "                                'ephemeral_containers': None,\n",
       "                                'host_aliases': None,\n",
       "                                'host_ipc': None,\n",
       "                                'host_network': None,\n",
       "                                'host_pid': None,\n",
       "                                'host_users': None,\n",
       "                                'hostname': None,\n",
       "                                'image_pull_secrets': None,\n",
       "                                'init_containers': None,\n",
       "                                'node_name': None,\n",
       "                                'node_selector': None,\n",
       "                                'os': None,\n",
       "                                'overhead': None,\n",
       "                                'preemption_policy': None,\n",
       "                                'priority': None,\n",
       "                                'priority_class_name': None,\n",
       "                                'readiness_gates': None,\n",
       "                                'resource_claims': None,\n",
       "                                'resources': None,\n",
       "                                'restart_policy': 'Always',\n",
       "                                'runtime_class_name': None,\n",
       "                                'scheduler_name': 'default-scheduler',\n",
       "                                'scheduling_gates': None,\n",
       "                                'security_context': {'app_armor_profile': None,\n",
       "                                                     'fs_group': None,\n",
       "                                                     'fs_group_change_policy': None,\n",
       "                                                     'run_as_group': None,\n",
       "                                                     'run_as_non_root': None,\n",
       "                                                     'run_as_user': None,\n",
       "                                                     'se_linux_change_policy': None,\n",
       "                                                     'se_linux_options': None,\n",
       "                                                     'seccomp_profile': None,\n",
       "                                                     'supplemental_groups': None,\n",
       "                                                     'supplemental_groups_policy': None,\n",
       "                                                     'sysctls': None,\n",
       "                                                     'windows_options': None},\n",
       "                                'service_account': None,\n",
       "                                'service_account_name': None,\n",
       "                                'set_hostname_as_fqdn': None,\n",
       "                                'share_process_namespace': None,\n",
       "                                'subdomain': None,\n",
       "                                'termination_grace_period_seconds': 30,\n",
       "                                'tolerations': None,\n",
       "                                'topology_spread_constraints': None,\n",
       "                                'volumes': None}}},\n",
       " 'status': {'available_replicas': 3,\n",
       "            'collision_count': None,\n",
       "            'conditions': [{'last_transition_time': datetime.datetime(2025, 4, 3, 19, 58, 40, tzinfo=tzutc()),\n",
       "                            'last_update_time': datetime.datetime(2025, 4, 3, 19, 58, 40, tzinfo=tzutc()),\n",
       "                            'message': 'Deployment has minimum availability.',\n",
       "                            'reason': 'MinimumReplicasAvailable',\n",
       "                            'status': 'True',\n",
       "                            'type': 'Available'},\n",
       "                           {'last_transition_time': datetime.datetime(2025, 4, 3, 19, 58, 39, tzinfo=tzutc()),\n",
       "                            'last_update_time': datetime.datetime(2025, 4, 3, 19, 58, 40, tzinfo=tzutc()),\n",
       "                            'message': 'ReplicaSet '\n",
       "                                       '\"nginx-deployment-7f9d555b89\" has '\n",
       "                                       'successfully progressed.',\n",
       "                            'reason': 'NewReplicaSetAvailable',\n",
       "                            'status': 'True',\n",
       "                            'type': 'Progressing'}],\n",
       "            'observed_generation': 1,\n",
       "            'ready_replicas': 3,\n",
       "            'replicas': 3,\n",
       "            'unavailable_replicas': None,\n",
       "            'updated_replicas': 3}}"
      ]
     },
     "execution_count": 104,
     "metadata": {},
     "output_type": "execute_result"
    }
   ],
   "source": [
    "apps_api.replace_namespaced_deployment(name=\"nginx-deployment\", namespace=\"default\", body=deployment)"
   ]
  },
  {
   "cell_type": "markdown",
   "metadata": {},
   "source": [
    "### Delete Deployment"
   ]
  },
  {
   "cell_type": "code",
   "execution_count": 100,
   "metadata": {
    "collapsed": false,
    "deletable": true,
    "editable": true
   },
   "outputs": [
    {
     "data": {
      "text/plain": [
       "{'api_version': 'apps/v1',\n",
       " 'code': None,\n",
       " 'details': None,\n",
       " 'kind': 'Deployment',\n",
       " 'message': None,\n",
       " 'metadata': {'_continue': None,\n",
       "              'remaining_item_count': None,\n",
       "              'resource_version': '17989',\n",
       "              'self_link': None},\n",
       " 'reason': None,\n",
       " 'status': \"{'observedGeneration': 3, 'replicas': 3, 'updatedReplicas': 3, \"\n",
       "           \"'readyReplicas': 3, 'availableReplicas': 3, 'conditions': \"\n",
       "           \"[{'type': 'Available', 'status': 'True', 'lastUpdateTime': \"\n",
       "           \"'2025-04-03T19:56:41Z', 'lastTransitionTime': \"\n",
       "           \"'2025-04-03T19:56:41Z', 'reason': 'MinimumReplicasAvailable', \"\n",
       "           \"'message': 'Deployment has minimum availability.'}, {'type': \"\n",
       "           \"'Progressing', 'status': 'True', 'lastUpdateTime': \"\n",
       "           \"'2025-04-03T19:57:46Z', 'lastTransitionTime': \"\n",
       "           \"'2025-04-03T19:56:34Z', 'reason': 'NewReplicaSetAvailable', \"\n",
       "           '\\'message\\': \\'ReplicaSet \"nginx-deployment-7f9d555b89\" has '\n",
       "           \"successfully progressed.'}]}\"}"
      ]
     },
     "execution_count": 100,
     "metadata": {},
     "output_type": "execute_result"
    }
   ],
   "source": [
    "apps_api.delete_namespaced_deployment(name=\"nginx-deployment\", namespace=\"default\", body=client.V1DeleteOptions(propagation_policy=\"Foreground\", grace_period_seconds=5))"
   ]
  },
  {
   "cell_type": "markdown",
   "metadata": {},
   "source": [
    "### Deploy a Deployment YAML manifest file"
   ]
  },
  {
   "cell_type": "code",
   "execution_count": 130,
   "metadata": {},
   "outputs": [
    {
     "name": "stdout",
     "output_type": "stream",
     "text": [
      "Deployment created. Status='inspectorgadget'\n"
     ]
    }
   ],
   "source": [
    "import yaml\n",
    "\n",
    "with open(file=\"deployment.yaml\") as f:\n",
    "\n",
    "    dep = yaml.safe_load(f)\n",
    "\n",
    "    k8s_apps_v1 = client.AppsV1Api()\n",
    "    \n",
    "    response = k8s_apps_v1.create_namespaced_deployment(body=dep, namespace=\"webapp\")\n",
    "    \n",
    "    print(f\"Deployment created. Status='{response.metadata.name}'\")"
   ]
  },
  {
   "cell_type": "markdown",
   "metadata": {},
   "source": [
    "### Deploy a Namespace YAML manifest file"
   ]
  },
  {
   "cell_type": "code",
   "execution_count": null,
   "metadata": {},
   "outputs": [
    {
     "name": "stdout",
     "output_type": "stream",
     "text": [
      "Namespace created. Status='webapp'\n"
     ]
    }
   ],
   "source": [
    "with open(file=\"namespace.yaml\") as f:\n",
    "\n",
    "    namespace = yaml.safe_load(f)\n",
    "\n",
    "    core_v1 = client.CoreV1Api()\n",
    "\n",
    "    response = core_v1.create_namespace(body=namespace)\n",
    "\n",
    "    print(f\"Namespace created. Status='{response.metadata.name}'\")"
   ]
  },
  {
   "cell_type": "markdown",
   "metadata": {},
   "source": [
    "### Deploy a Service YAML manifest file"
   ]
  },
  {
   "cell_type": "code",
   "execution_count": null,
   "metadata": {},
   "outputs": [
    {
     "ename": "ApiException",
     "evalue": "(409)\nReason: Conflict\nHTTP response headers: HTTPHeaderDict({'Audit-Id': '97e73e33-b23a-4405-be71-b8066dc3b529', 'Cache-Control': 'no-cache, private', 'Content-Type': 'application/json', 'X-Kubernetes-Pf-Flowschema-Uid': '74cd85a7-68b9-4097-b23d-23e5f4e08691', 'X-Kubernetes-Pf-Prioritylevel-Uid': '2a8278ac-fef7-4439-ba82-b6b9f3a7c7bc', 'Date': 'Thu, 03 Apr 2025 20:32:34 GMT', 'Content-Length': '216'})\nHTTP response body: {\"kind\":\"Status\",\"apiVersion\":\"v1\",\"metadata\":{},\"status\":\"Failure\",\"message\":\"services \\\"inspectorgadget\\\" already exists\",\"reason\":\"AlreadyExists\",\"details\":{\"name\":\"inspectorgadget\",\"kind\":\"services\"},\"code\":409}\n\n",
     "output_type": "error",
     "traceback": [
      "\u001b[31m---------------------------------------------------------------------------\u001b[39m",
      "\u001b[31mApiException\u001b[39m                              Traceback (most recent call last)",
      "\u001b[36mCell\u001b[39m\u001b[36m \u001b[39m\u001b[32mIn[131]\u001b[39m\u001b[32m, line 7\u001b[39m\n\u001b[32m      3\u001b[39m serviceYaml = yaml.safe_load(f)\n\u001b[32m      5\u001b[39m service = client.CoreV1Api()\n\u001b[32m----> \u001b[39m\u001b[32m7\u001b[39m response = \u001b[43mservice\u001b[49m\u001b[43m.\u001b[49m\u001b[43mcreate_namespaced_service\u001b[49m\u001b[43m(\u001b[49m\u001b[43mbody\u001b[49m\u001b[43m=\u001b[49m\u001b[43mserviceYaml\u001b[49m\u001b[43m,\u001b[49m\u001b[43m \u001b[49m\u001b[43mnamespace\u001b[49m\u001b[43m=\u001b[49m\u001b[33;43m\"\u001b[39;49m\u001b[33;43mwebapp\u001b[39;49m\u001b[33;43m\"\u001b[39;49m\u001b[43m)\u001b[49m\n\u001b[32m      9\u001b[39m \u001b[38;5;28mprint\u001b[39m(\u001b[33mf\u001b[39m\u001b[33m\"\u001b[39m\u001b[33mNamespace created. Status=\u001b[39m\u001b[33m'\u001b[39m\u001b[38;5;132;01m{\u001b[39;00mresponse.metadata.name\u001b[38;5;132;01m}\u001b[39;00m\u001b[33m'\u001b[39m\u001b[33m\"\u001b[39m)\n",
      "\u001b[36mFile \u001b[39m\u001b[32mc:\\Users\\hodellai\\AppData\\Local\\Programs\\Python\\Python313\\Lib\\site-packages\\kubernetes\\client\\api\\core_v1_api.py:8375\u001b[39m, in \u001b[36mCoreV1Api.create_namespaced_service\u001b[39m\u001b[34m(self, namespace, body, **kwargs)\u001b[39m\n\u001b[32m   8348\u001b[39m \u001b[38;5;250m\u001b[39m\u001b[33;03m\"\"\"create_namespaced_service  # noqa: E501\u001b[39;00m\n\u001b[32m   8349\u001b[39m \n\u001b[32m   8350\u001b[39m \u001b[33;03mcreate a Service  # noqa: E501\u001b[39;00m\n\u001b[32m   (...)\u001b[39m\u001b[32m   8372\u001b[39m \u001b[33;03m         returns the request thread.\u001b[39;00m\n\u001b[32m   8373\u001b[39m \u001b[33;03m\"\"\"\u001b[39;00m\n\u001b[32m   8374\u001b[39m kwargs[\u001b[33m'\u001b[39m\u001b[33m_return_http_data_only\u001b[39m\u001b[33m'\u001b[39m] = \u001b[38;5;28;01mTrue\u001b[39;00m\n\u001b[32m-> \u001b[39m\u001b[32m8375\u001b[39m \u001b[38;5;28;01mreturn\u001b[39;00m \u001b[38;5;28;43mself\u001b[39;49m\u001b[43m.\u001b[49m\u001b[43mcreate_namespaced_service_with_http_info\u001b[49m\u001b[43m(\u001b[49m\u001b[43mnamespace\u001b[49m\u001b[43m,\u001b[49m\u001b[43m \u001b[49m\u001b[43mbody\u001b[49m\u001b[43m,\u001b[49m\u001b[43m \u001b[49m\u001b[43m*\u001b[49m\u001b[43m*\u001b[49m\u001b[43mkwargs\u001b[49m\u001b[43m)\u001b[49m\n",
      "\u001b[36mFile \u001b[39m\u001b[32mc:\\Users\\hodellai\\AppData\\Local\\Programs\\Python\\Python313\\Lib\\site-packages\\kubernetes\\client\\api\\core_v1_api.py:8474\u001b[39m, in \u001b[36mCoreV1Api.create_namespaced_service_with_http_info\u001b[39m\u001b[34m(self, namespace, body, **kwargs)\u001b[39m\n\u001b[32m   8471\u001b[39m \u001b[38;5;66;03m# Authentication setting\u001b[39;00m\n\u001b[32m   8472\u001b[39m auth_settings = [\u001b[33m'\u001b[39m\u001b[33mBearerToken\u001b[39m\u001b[33m'\u001b[39m]  \u001b[38;5;66;03m# noqa: E501\u001b[39;00m\n\u001b[32m-> \u001b[39m\u001b[32m8474\u001b[39m \u001b[38;5;28;01mreturn\u001b[39;00m \u001b[38;5;28;43mself\u001b[39;49m\u001b[43m.\u001b[49m\u001b[43mapi_client\u001b[49m\u001b[43m.\u001b[49m\u001b[43mcall_api\u001b[49m\u001b[43m(\u001b[49m\n\u001b[32m   8475\u001b[39m \u001b[43m    \u001b[49m\u001b[33;43m'\u001b[39;49m\u001b[33;43m/api/v1/namespaces/\u001b[39;49m\u001b[38;5;132;43;01m{namespace}\u001b[39;49;00m\u001b[33;43m/services\u001b[39;49m\u001b[33;43m'\u001b[39;49m\u001b[43m,\u001b[49m\u001b[43m \u001b[49m\u001b[33;43m'\u001b[39;49m\u001b[33;43mPOST\u001b[39;49m\u001b[33;43m'\u001b[39;49m\u001b[43m,\u001b[49m\n\u001b[32m   8476\u001b[39m \u001b[43m    \u001b[49m\u001b[43mpath_params\u001b[49m\u001b[43m,\u001b[49m\n\u001b[32m   8477\u001b[39m \u001b[43m    \u001b[49m\u001b[43mquery_params\u001b[49m\u001b[43m,\u001b[49m\n\u001b[32m   8478\u001b[39m \u001b[43m    \u001b[49m\u001b[43mheader_params\u001b[49m\u001b[43m,\u001b[49m\n\u001b[32m   8479\u001b[39m \u001b[43m    \u001b[49m\u001b[43mbody\u001b[49m\u001b[43m=\u001b[49m\u001b[43mbody_params\u001b[49m\u001b[43m,\u001b[49m\n\u001b[32m   8480\u001b[39m \u001b[43m    \u001b[49m\u001b[43mpost_params\u001b[49m\u001b[43m=\u001b[49m\u001b[43mform_params\u001b[49m\u001b[43m,\u001b[49m\n\u001b[32m   8481\u001b[39m \u001b[43m    \u001b[49m\u001b[43mfiles\u001b[49m\u001b[43m=\u001b[49m\u001b[43mlocal_var_files\u001b[49m\u001b[43m,\u001b[49m\n\u001b[32m   8482\u001b[39m \u001b[43m    \u001b[49m\u001b[43mresponse_type\u001b[49m\u001b[43m=\u001b[49m\u001b[33;43m'\u001b[39;49m\u001b[33;43mV1Service\u001b[39;49m\u001b[33;43m'\u001b[39;49m\u001b[43m,\u001b[49m\u001b[43m  \u001b[49m\u001b[38;5;66;43;03m# noqa: E501\u001b[39;49;00m\n\u001b[32m   8483\u001b[39m \u001b[43m    \u001b[49m\u001b[43mauth_settings\u001b[49m\u001b[43m=\u001b[49m\u001b[43mauth_settings\u001b[49m\u001b[43m,\u001b[49m\n\u001b[32m   8484\u001b[39m \u001b[43m    \u001b[49m\u001b[43masync_req\u001b[49m\u001b[43m=\u001b[49m\u001b[43mlocal_var_params\u001b[49m\u001b[43m.\u001b[49m\u001b[43mget\u001b[49m\u001b[43m(\u001b[49m\u001b[33;43m'\u001b[39;49m\u001b[33;43masync_req\u001b[39;49m\u001b[33;43m'\u001b[39;49m\u001b[43m)\u001b[49m\u001b[43m,\u001b[49m\n\u001b[32m   8485\u001b[39m \u001b[43m    \u001b[49m\u001b[43m_return_http_data_only\u001b[49m\u001b[43m=\u001b[49m\u001b[43mlocal_var_params\u001b[49m\u001b[43m.\u001b[49m\u001b[43mget\u001b[49m\u001b[43m(\u001b[49m\u001b[33;43m'\u001b[39;49m\u001b[33;43m_return_http_data_only\u001b[39;49m\u001b[33;43m'\u001b[39;49m\u001b[43m)\u001b[49m\u001b[43m,\u001b[49m\u001b[43m  \u001b[49m\u001b[38;5;66;43;03m# noqa: E501\u001b[39;49;00m\n\u001b[32m   8486\u001b[39m \u001b[43m    \u001b[49m\u001b[43m_preload_content\u001b[49m\u001b[43m=\u001b[49m\u001b[43mlocal_var_params\u001b[49m\u001b[43m.\u001b[49m\u001b[43mget\u001b[49m\u001b[43m(\u001b[49m\u001b[33;43m'\u001b[39;49m\u001b[33;43m_preload_content\u001b[39;49m\u001b[33;43m'\u001b[39;49m\u001b[43m,\u001b[49m\u001b[43m \u001b[49m\u001b[38;5;28;43;01mTrue\u001b[39;49;00m\u001b[43m)\u001b[49m\u001b[43m,\u001b[49m\n\u001b[32m   8487\u001b[39m \u001b[43m    \u001b[49m\u001b[43m_request_timeout\u001b[49m\u001b[43m=\u001b[49m\u001b[43mlocal_var_params\u001b[49m\u001b[43m.\u001b[49m\u001b[43mget\u001b[49m\u001b[43m(\u001b[49m\u001b[33;43m'\u001b[39;49m\u001b[33;43m_request_timeout\u001b[39;49m\u001b[33;43m'\u001b[39;49m\u001b[43m)\u001b[49m\u001b[43m,\u001b[49m\n\u001b[32m   8488\u001b[39m \u001b[43m    \u001b[49m\u001b[43mcollection_formats\u001b[49m\u001b[43m=\u001b[49m\u001b[43mcollection_formats\u001b[49m\u001b[43m)\u001b[49m\n",
      "\u001b[36mFile \u001b[39m\u001b[32mc:\\Users\\hodellai\\AppData\\Local\\Programs\\Python\\Python313\\Lib\\site-packages\\kubernetes\\client\\api_client.py:348\u001b[39m, in \u001b[36mApiClient.call_api\u001b[39m\u001b[34m(self, resource_path, method, path_params, query_params, header_params, body, post_params, files, response_type, auth_settings, async_req, _return_http_data_only, collection_formats, _preload_content, _request_timeout, _host)\u001b[39m\n\u001b[32m    311\u001b[39m \u001b[38;5;250m\u001b[39m\u001b[33;03m\"\"\"Makes the HTTP request (synchronous) and returns deserialized data.\u001b[39;00m\n\u001b[32m    312\u001b[39m \n\u001b[32m    313\u001b[39m \u001b[33;03mTo make an async_req request, set the async_req parameter.\u001b[39;00m\n\u001b[32m   (...)\u001b[39m\u001b[32m    345\u001b[39m \u001b[33;03m    then the method will return the response directly.\u001b[39;00m\n\u001b[32m    346\u001b[39m \u001b[33;03m\"\"\"\u001b[39;00m\n\u001b[32m    347\u001b[39m \u001b[38;5;28;01mif\u001b[39;00m \u001b[38;5;129;01mnot\u001b[39;00m async_req:\n\u001b[32m--> \u001b[39m\u001b[32m348\u001b[39m     \u001b[38;5;28;01mreturn\u001b[39;00m \u001b[38;5;28;43mself\u001b[39;49m\u001b[43m.\u001b[49m\u001b[43m__call_api\u001b[49m\u001b[43m(\u001b[49m\u001b[43mresource_path\u001b[49m\u001b[43m,\u001b[49m\u001b[43m \u001b[49m\u001b[43mmethod\u001b[49m\u001b[43m,\u001b[49m\n\u001b[32m    349\u001b[39m \u001b[43m                           \u001b[49m\u001b[43mpath_params\u001b[49m\u001b[43m,\u001b[49m\u001b[43m \u001b[49m\u001b[43mquery_params\u001b[49m\u001b[43m,\u001b[49m\u001b[43m \u001b[49m\u001b[43mheader_params\u001b[49m\u001b[43m,\u001b[49m\n\u001b[32m    350\u001b[39m \u001b[43m                           \u001b[49m\u001b[43mbody\u001b[49m\u001b[43m,\u001b[49m\u001b[43m \u001b[49m\u001b[43mpost_params\u001b[49m\u001b[43m,\u001b[49m\u001b[43m \u001b[49m\u001b[43mfiles\u001b[49m\u001b[43m,\u001b[49m\n\u001b[32m    351\u001b[39m \u001b[43m                           \u001b[49m\u001b[43mresponse_type\u001b[49m\u001b[43m,\u001b[49m\u001b[43m \u001b[49m\u001b[43mauth_settings\u001b[49m\u001b[43m,\u001b[49m\n\u001b[32m    352\u001b[39m \u001b[43m                           \u001b[49m\u001b[43m_return_http_data_only\u001b[49m\u001b[43m,\u001b[49m\u001b[43m \u001b[49m\u001b[43mcollection_formats\u001b[49m\u001b[43m,\u001b[49m\n\u001b[32m    353\u001b[39m \u001b[43m                           \u001b[49m\u001b[43m_preload_content\u001b[49m\u001b[43m,\u001b[49m\u001b[43m \u001b[49m\u001b[43m_request_timeout\u001b[49m\u001b[43m,\u001b[49m\u001b[43m \u001b[49m\u001b[43m_host\u001b[49m\u001b[43m)\u001b[49m\n\u001b[32m    355\u001b[39m \u001b[38;5;28;01mreturn\u001b[39;00m \u001b[38;5;28mself\u001b[39m.pool.apply_async(\u001b[38;5;28mself\u001b[39m.__call_api, (resource_path,\n\u001b[32m    356\u001b[39m                                                method, path_params,\n\u001b[32m    357\u001b[39m                                                query_params,\n\u001b[32m   (...)\u001b[39m\u001b[32m    365\u001b[39m                                                _request_timeout,\n\u001b[32m    366\u001b[39m                                                _host))\n",
      "\u001b[36mFile \u001b[39m\u001b[32mc:\\Users\\hodellai\\AppData\\Local\\Programs\\Python\\Python313\\Lib\\site-packages\\kubernetes\\client\\api_client.py:180\u001b[39m, in \u001b[36mApiClient.__call_api\u001b[39m\u001b[34m(self, resource_path, method, path_params, query_params, header_params, body, post_params, files, response_type, auth_settings, _return_http_data_only, collection_formats, _preload_content, _request_timeout, _host)\u001b[39m\n\u001b[32m    177\u001b[39m     url = _host + resource_path\n\u001b[32m    179\u001b[39m \u001b[38;5;66;03m# perform request and return response\u001b[39;00m\n\u001b[32m--> \u001b[39m\u001b[32m180\u001b[39m response_data = \u001b[38;5;28;43mself\u001b[39;49m\u001b[43m.\u001b[49m\u001b[43mrequest\u001b[49m\u001b[43m(\u001b[49m\n\u001b[32m    181\u001b[39m \u001b[43m    \u001b[49m\u001b[43mmethod\u001b[49m\u001b[43m,\u001b[49m\u001b[43m \u001b[49m\u001b[43murl\u001b[49m\u001b[43m,\u001b[49m\u001b[43m \u001b[49m\u001b[43mquery_params\u001b[49m\u001b[43m=\u001b[49m\u001b[43mquery_params\u001b[49m\u001b[43m,\u001b[49m\u001b[43m \u001b[49m\u001b[43mheaders\u001b[49m\u001b[43m=\u001b[49m\u001b[43mheader_params\u001b[49m\u001b[43m,\u001b[49m\n\u001b[32m    182\u001b[39m \u001b[43m    \u001b[49m\u001b[43mpost_params\u001b[49m\u001b[43m=\u001b[49m\u001b[43mpost_params\u001b[49m\u001b[43m,\u001b[49m\u001b[43m \u001b[49m\u001b[43mbody\u001b[49m\u001b[43m=\u001b[49m\u001b[43mbody\u001b[49m\u001b[43m,\u001b[49m\n\u001b[32m    183\u001b[39m \u001b[43m    \u001b[49m\u001b[43m_preload_content\u001b[49m\u001b[43m=\u001b[49m\u001b[43m_preload_content\u001b[49m\u001b[43m,\u001b[49m\n\u001b[32m    184\u001b[39m \u001b[43m    \u001b[49m\u001b[43m_request_timeout\u001b[49m\u001b[43m=\u001b[49m\u001b[43m_request_timeout\u001b[49m\u001b[43m)\u001b[49m\n\u001b[32m    186\u001b[39m \u001b[38;5;28mself\u001b[39m.last_response = response_data\n\u001b[32m    188\u001b[39m return_data = response_data\n",
      "\u001b[36mFile \u001b[39m\u001b[32mc:\\Users\\hodellai\\AppData\\Local\\Programs\\Python\\Python313\\Lib\\site-packages\\kubernetes\\client\\api_client.py:391\u001b[39m, in \u001b[36mApiClient.request\u001b[39m\u001b[34m(self, method, url, query_params, headers, post_params, body, _preload_content, _request_timeout)\u001b[39m\n\u001b[32m    385\u001b[39m     \u001b[38;5;28;01mreturn\u001b[39;00m \u001b[38;5;28mself\u001b[39m.rest_client.OPTIONS(url,\n\u001b[32m    386\u001b[39m                                     query_params=query_params,\n\u001b[32m    387\u001b[39m                                     headers=headers,\n\u001b[32m    388\u001b[39m                                     _preload_content=_preload_content,\n\u001b[32m    389\u001b[39m                                     _request_timeout=_request_timeout)\n\u001b[32m    390\u001b[39m \u001b[38;5;28;01melif\u001b[39;00m method == \u001b[33m\"\u001b[39m\u001b[33mPOST\u001b[39m\u001b[33m\"\u001b[39m:\n\u001b[32m--> \u001b[39m\u001b[32m391\u001b[39m     \u001b[38;5;28;01mreturn\u001b[39;00m \u001b[38;5;28;43mself\u001b[39;49m\u001b[43m.\u001b[49m\u001b[43mrest_client\u001b[49m\u001b[43m.\u001b[49m\u001b[43mPOST\u001b[49m\u001b[43m(\u001b[49m\u001b[43murl\u001b[49m\u001b[43m,\u001b[49m\n\u001b[32m    392\u001b[39m \u001b[43m                                 \u001b[49m\u001b[43mquery_params\u001b[49m\u001b[43m=\u001b[49m\u001b[43mquery_params\u001b[49m\u001b[43m,\u001b[49m\n\u001b[32m    393\u001b[39m \u001b[43m                                 \u001b[49m\u001b[43mheaders\u001b[49m\u001b[43m=\u001b[49m\u001b[43mheaders\u001b[49m\u001b[43m,\u001b[49m\n\u001b[32m    394\u001b[39m \u001b[43m                                 \u001b[49m\u001b[43mpost_params\u001b[49m\u001b[43m=\u001b[49m\u001b[43mpost_params\u001b[49m\u001b[43m,\u001b[49m\n\u001b[32m    395\u001b[39m \u001b[43m                                 \u001b[49m\u001b[43m_preload_content\u001b[49m\u001b[43m=\u001b[49m\u001b[43m_preload_content\u001b[49m\u001b[43m,\u001b[49m\n\u001b[32m    396\u001b[39m \u001b[43m                                 \u001b[49m\u001b[43m_request_timeout\u001b[49m\u001b[43m=\u001b[49m\u001b[43m_request_timeout\u001b[49m\u001b[43m,\u001b[49m\n\u001b[32m    397\u001b[39m \u001b[43m                                 \u001b[49m\u001b[43mbody\u001b[49m\u001b[43m=\u001b[49m\u001b[43mbody\u001b[49m\u001b[43m)\u001b[49m\n\u001b[32m    398\u001b[39m \u001b[38;5;28;01melif\u001b[39;00m method == \u001b[33m\"\u001b[39m\u001b[33mPUT\u001b[39m\u001b[33m\"\u001b[39m:\n\u001b[32m    399\u001b[39m     \u001b[38;5;28;01mreturn\u001b[39;00m \u001b[38;5;28mself\u001b[39m.rest_client.PUT(url,\n\u001b[32m    400\u001b[39m                                 query_params=query_params,\n\u001b[32m    401\u001b[39m                                 headers=headers,\n\u001b[32m   (...)\u001b[39m\u001b[32m    404\u001b[39m                                 _request_timeout=_request_timeout,\n\u001b[32m    405\u001b[39m                                 body=body)\n",
      "\u001b[36mFile \u001b[39m\u001b[32mc:\\Users\\hodellai\\AppData\\Local\\Programs\\Python\\Python313\\Lib\\site-packages\\kubernetes\\client\\rest.py:279\u001b[39m, in \u001b[36mRESTClientObject.POST\u001b[39m\u001b[34m(self, url, headers, query_params, post_params, body, _preload_content, _request_timeout)\u001b[39m\n\u001b[32m    277\u001b[39m \u001b[38;5;28;01mdef\u001b[39;00m\u001b[38;5;250m \u001b[39m\u001b[34mPOST\u001b[39m(\u001b[38;5;28mself\u001b[39m, url, headers=\u001b[38;5;28;01mNone\u001b[39;00m, query_params=\u001b[38;5;28;01mNone\u001b[39;00m, post_params=\u001b[38;5;28;01mNone\u001b[39;00m,\n\u001b[32m    278\u001b[39m          body=\u001b[38;5;28;01mNone\u001b[39;00m, _preload_content=\u001b[38;5;28;01mTrue\u001b[39;00m, _request_timeout=\u001b[38;5;28;01mNone\u001b[39;00m):\n\u001b[32m--> \u001b[39m\u001b[32m279\u001b[39m     \u001b[38;5;28;01mreturn\u001b[39;00m \u001b[38;5;28;43mself\u001b[39;49m\u001b[43m.\u001b[49m\u001b[43mrequest\u001b[49m\u001b[43m(\u001b[49m\u001b[33;43m\"\u001b[39;49m\u001b[33;43mPOST\u001b[39;49m\u001b[33;43m\"\u001b[39;49m\u001b[43m,\u001b[49m\u001b[43m \u001b[49m\u001b[43murl\u001b[49m\u001b[43m,\u001b[49m\n\u001b[32m    280\u001b[39m \u001b[43m                        \u001b[49m\u001b[43mheaders\u001b[49m\u001b[43m=\u001b[49m\u001b[43mheaders\u001b[49m\u001b[43m,\u001b[49m\n\u001b[32m    281\u001b[39m \u001b[43m                        \u001b[49m\u001b[43mquery_params\u001b[49m\u001b[43m=\u001b[49m\u001b[43mquery_params\u001b[49m\u001b[43m,\u001b[49m\n\u001b[32m    282\u001b[39m \u001b[43m                        \u001b[49m\u001b[43mpost_params\u001b[49m\u001b[43m=\u001b[49m\u001b[43mpost_params\u001b[49m\u001b[43m,\u001b[49m\n\u001b[32m    283\u001b[39m \u001b[43m                        \u001b[49m\u001b[43m_preload_content\u001b[49m\u001b[43m=\u001b[49m\u001b[43m_preload_content\u001b[49m\u001b[43m,\u001b[49m\n\u001b[32m    284\u001b[39m \u001b[43m                        \u001b[49m\u001b[43m_request_timeout\u001b[49m\u001b[43m=\u001b[49m\u001b[43m_request_timeout\u001b[49m\u001b[43m,\u001b[49m\n\u001b[32m    285\u001b[39m \u001b[43m                        \u001b[49m\u001b[43mbody\u001b[49m\u001b[43m=\u001b[49m\u001b[43mbody\u001b[49m\u001b[43m)\u001b[49m\n",
      "\u001b[36mFile \u001b[39m\u001b[32mc:\\Users\\hodellai\\AppData\\Local\\Programs\\Python\\Python313\\Lib\\site-packages\\kubernetes\\client\\rest.py:238\u001b[39m, in \u001b[36mRESTClientObject.request\u001b[39m\u001b[34m(self, method, url, query_params, headers, body, post_params, _preload_content, _request_timeout)\u001b[39m\n\u001b[32m    235\u001b[39m     logger.debug(\u001b[33m\"\u001b[39m\u001b[33mresponse body: \u001b[39m\u001b[38;5;132;01m%s\u001b[39;00m\u001b[33m\"\u001b[39m, r.data)\n\u001b[32m    237\u001b[39m \u001b[38;5;28;01mif\u001b[39;00m \u001b[38;5;129;01mnot\u001b[39;00m \u001b[32m200\u001b[39m <= r.status <= \u001b[32m299\u001b[39m:\n\u001b[32m--> \u001b[39m\u001b[32m238\u001b[39m     \u001b[38;5;28;01mraise\u001b[39;00m ApiException(http_resp=r)\n\u001b[32m    240\u001b[39m \u001b[38;5;28;01mreturn\u001b[39;00m r\n",
      "\u001b[31mApiException\u001b[39m: (409)\nReason: Conflict\nHTTP response headers: HTTPHeaderDict({'Audit-Id': '97e73e33-b23a-4405-be71-b8066dc3b529', 'Cache-Control': 'no-cache, private', 'Content-Type': 'application/json', 'X-Kubernetes-Pf-Flowschema-Uid': '74cd85a7-68b9-4097-b23d-23e5f4e08691', 'X-Kubernetes-Pf-Prioritylevel-Uid': '2a8278ac-fef7-4439-ba82-b6b9f3a7c7bc', 'Date': 'Thu, 03 Apr 2025 20:32:34 GMT', 'Content-Length': '216'})\nHTTP response body: {\"kind\":\"Status\",\"apiVersion\":\"v1\",\"metadata\":{},\"status\":\"Failure\",\"message\":\"services \\\"inspectorgadget\\\" already exists\",\"reason\":\"AlreadyExists\",\"details\":{\"name\":\"inspectorgadget\",\"kind\":\"services\"},\"code\":409}\n\n"
     ]
    },
    {
     "ename": "",
     "evalue": "",
     "output_type": "error",
     "traceback": [
      "\u001b[1;31mThe Kernel crashed while executing code in the current cell or a previous cell. \n",
      "\u001b[1;31mPlease review the code in the cell(s) to identify a possible cause of the failure. \n",
      "\u001b[1;31mClick <a href='https://aka.ms/vscodeJupyterKernelCrash'>here</a> for more info. \n",
      "\u001b[1;31mView Jupyter <a href='command:jupyter.viewOutput'>log</a> for further details."
     ]
    }
   ],
   "source": [
    "with open(file=\"service.yaml\") as f:\n",
    "\n",
    "    serviceYaml = yaml.safe_load(f)\n",
    "\n",
    "    service = client.CoreV1Api()\n",
    "\n",
    "    response = service.create_namespaced_service(body=serviceYaml, namespace=\"webapp\")\n",
    "\n",
    "    print(f\"Namespace created. Status='{response.metadata.name}'\")"
   ]
  }
 ],
 "metadata": {
  "kernelspec": {
   "display_name": "Python 3",
   "language": "python",
   "name": "python3"
  },
  "language_info": {
   "codemirror_mode": {
    "name": "ipython",
    "version": 3
   },
   "file_extension": ".py",
   "mimetype": "text/x-python",
   "name": "python",
   "nbconvert_exporter": "python",
   "pygments_lexer": "ipython3",
   "version": "3.13.2"
  }
 },
 "nbformat": 4,
 "nbformat_minor": 2
}
